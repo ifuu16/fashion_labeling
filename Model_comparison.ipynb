{
 "cells": [
  {
   "cell_type": "code",
   "execution_count": 1,
   "id": "07a9128d",
   "metadata": {},
   "outputs": [],
   "source": [
    "#Import relevant libraries\n",
    "import numpy as np\n",
    "\n",
    "import matplotlib.pyplot as plt\n",
    "from tensorflow.keras.models import load_model\n"
   ]
  },
  {
   "cell_type": "code",
   "execution_count": 2,
   "id": "4c27f8f2",
   "metadata": {},
   "outputs": [
    {
     "name": "stdout",
     "output_type": "stream",
     "text": [
      "gender: <keras.src.engine.sequential.Sequential object at 0x000001B96786B7D0>\n",
      "Female: <keras.src.engine.sequential.Sequential object at 0x000001B9674794D0>\n",
      "Male: <keras.src.engine.sequential.Sequential object at 0x000001B9653B7B90>\n",
      "ALL: <keras.src.engine.sequential.Sequential object at 0x000001B968B0EDD0>\n"
     ]
    }
   ],
   "source": [
    "model_male =  load_model(f\"saved_model/Model_male\")\n",
    "model_female =  load_model(f\"saved_model/Model_female\")\n",
    "model_gender_all =  load_model(f\"saved_model/Model_genderAll\")\n",
    "model_jeans_trouser_all =  load_model(f\"saved_model/Model_Jeans_Trouser_All\")\n",
    "\n",
    "\n",
    "print(\"gender:\", model_gender_all)\n",
    "print(\"Female:\", model_female)\n",
    "print(\"Male:\", model_male)\n",
    "print(\"ALL:\", model_jeans_trouser_all)\n"
   ]
  },
  {
   "cell_type": "code",
   "execution_count": 3,
   "id": "c38b6fde",
   "metadata": {},
   "outputs": [],
   "source": [
    "#Load the necessary test datasets for comparison. We'll compare the two approaches we used. The direct approach and the hierarchical approach.In otherwords, the accuracy of the models to classify both the gender(i.e. if it's male or female wear ) and the type(i.e. if it is the trouser or jeans)\n",
    "#In the types labels, the 0's are the trousers and the 1's are the jeans. Since the data is number{male trouser=0, male jeans=1, female trousers=2, female jeans=3} so we even trouser and odds jeans. And for the gender 0's are male and 1's are female.\n",
    "\n",
    "data = np.load('Full Dataset/Trousers & Jeans - All - Test.npz')\n",
    "images = data['images']\n",
    "gender = data['genders']\n",
    "types  = data['labels'] %2\n",
    "\n",
    "#Normalize the image\n",
    "images = images/255.0\n",
    "\n",
    "# print(f' gender:\\n {gender} \\n') \n",
    "\n",
    "# print(f'types: \\n {types}')\n",
    "\n"
   ]
  },
  {
   "cell_type": "code",
   "execution_count": 4,
   "id": "0032db86",
   "metadata": {},
   "outputs": [],
   "source": [
    "#Initialize the scores/points\n",
    "score_all = 0\n",
    "score_hierarchy = 0"
   ]
  },
  {
   "cell_type": "code",
   "execution_count": 6,
   "id": "7c8c2d7f",
   "metadata": {},
   "outputs": [
    {
     "name": "stdout",
     "output_type": "stream",
     "text": [
      "combined model: \n",
      " 884 \n",
      "\n",
      "\n",
      " hierarchical model: \n",
      " 826\n"
     ]
    }
   ],
   "source": [
    "# Get the predictions of the models, Loop the whole test data and score the models accordingly. The model gets 1 point for each correct prediction. If a model gets gender and type it gets 2points else it gets only 1point or 0point if none.\n",
    "\n",
    "for image in range(len(images)):\n",
    "\n",
    "#Check how well the model predicts gender label and the types of the label\n",
    "    predict_all = model_jeans_trouser_all(images[image:image+1])\n",
    "    label_all = np.argmax(predict_all)\n",
    "    \n",
    "    if label_all % 2 == types[image]:\n",
    "        score_all += 1\n",
    "        \n",
    "    if label_all // 2 == gender[image]:\n",
    "        score_all += 1\n",
    "        \n",
    "#check how accurate the model predicts gender labels and its type. First, check for gender     \n",
    "    predict_gender = model_gender_all(images[image:image+1])\n",
    "    label_gender = np.argmax(predict_gender)\n",
    "    \n",
    "    if label_gender == gender[image]:\n",
    "        score_hierarchy += 1\n",
    "        \n",
    "#check if the predicted gender label is  trouser or jeans        \n",
    "    if label_gender == 0:\n",
    "        predict_male = model_male(images[image:image+1])\n",
    "        label_male  = np.argmax(predict_male)\n",
    "        \n",
    "        if label_male == types[image]:\n",
    "            score_hierarchy += 1\n",
    "            \n",
    "    if label_gender == 1:\n",
    "        predict_female = model_female(images[image:image+1])\n",
    "        label_female  = np.argmax(predict_female)\n",
    "        \n",
    "        if label_female == types[image]:\n",
    "            score_hierarchy += 1\n",
    "        \n",
    "\n",
    "print(f'combined model: \\n {score_all} \\n\\n\\n hierarchical model: \\n {score_hierarchy}')\n",
    "     \n",
    "    \n",
    "    "
   ]
  },
  {
   "cell_type": "code",
   "execution_count": null,
   "id": "630171a1",
   "metadata": {},
   "outputs": [],
   "source": []
  },
  {
   "cell_type": "code",
   "execution_count": null,
   "id": "45fb0001",
   "metadata": {},
   "outputs": [],
   "source": [
    "\n",
    "\n"
   ]
  },
  {
   "cell_type": "code",
   "execution_count": null,
   "id": "dfc02af4",
   "metadata": {},
   "outputs": [],
   "source": []
  },
  {
   "cell_type": "code",
   "execution_count": null,
   "id": "a1bd3563",
   "metadata": {},
   "outputs": [],
   "source": []
  }
 ],
 "metadata": {
  "kernelspec": {
   "display_name": "Python 3 (ipykernel)",
   "language": "python",
   "name": "python3"
  },
  "language_info": {
   "codemirror_mode": {
    "name": "ipython",
    "version": 3
   },
   "file_extension": ".py",
   "mimetype": "text/x-python",
   "name": "python",
   "nbconvert_exporter": "python",
   "pygments_lexer": "ipython3",
   "version": "3.11.5"
  }
 },
 "nbformat": 4,
 "nbformat_minor": 5
}
