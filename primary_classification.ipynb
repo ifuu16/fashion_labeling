{
 "cells": [
  {
   "cell_type": "code",
   "execution_count": 1,
   "id": "b10c8f4c",
   "metadata": {},
   "outputs": [],
   "source": [
    "#Import relevant libraries\n",
    "import io\n",
    "import itertools\n",
    "import sklearn.metrics\n",
    "import tensorflow as tf\n",
    "from tensorflow import keras\n",
    "from tensorflow.keras.models import Sequential\n",
    "from tensorflow.keras.callbacks import EarlyStopping, TensorBoard, LambdaCallback\n",
    "from tensorflow.keras.layers import Conv2D, MaxPooling2D, Flatten, Dense\n",
    "# import datetime\n",
    "from sklearn.metrics import confusion_matrix, ConfusionMatrixDisplay\n",
    "import matplotlib.pyplot as plt\n",
    "import numpy as np\n",
    "import seaborn as sns\n",
    "from tensorboard.plugins.hparams import api as hp"
   ]
  },
  {
   "cell_type": "code",
   "execution_count": 2,
   "id": "2c0194fb",
   "metadata": {},
   "outputs": [],
   "source": [
    "#Dataset encoding explaination.\n",
    "#image labelling - 0=glasses/sunglasses. 1= trousers/jeans. 3= shoes"
   ]
  },
  {
   "cell_type": "code",
   "execution_count": 3,
   "id": "ba424d12",
   "metadata": {},
   "outputs": [],
   "source": [
    "#Import the datasets and preprocess\n",
    "\n",
    "data_train = np.load(r'Full Dataset/Primary categories - Train.npz')\n",
    "data_validation = np.load(r'Full Dataset/Primary categories - Validation.npz')\n",
    "data_test = np.load(r'Full Dataset/Primary categories - Test.npz')\n",
    "\n",
    "\n",
    "#t extract the arrays from dataset into input(images) and target(labels)\n",
    "images_train = data_train['images']\n",
    "labels_train = data_train['labels']\n",
    "\n",
    "images_val = data_validation['images']\n",
    "labels_val = data_validation['labels']\n",
    "\n",
    "\n",
    "images_test = data_test['images']\n",
    "labels_test = data_test['labels']\n",
    "\n",
    "#Pixel-wise normalization of the training, validation and testing data\n",
    "images_train = images_train/255.0\n",
    "images_val  = images_val/255.0\n",
    "images_test = images_test/255.0\n",
    "\n",
    "\n",
    "\n",
    "\n",
    "\n"
   ]
  },
  {
   "cell_type": "code",
   "execution_count": 4,
   "id": "2ab0b511",
   "metadata": {},
   "outputs": [],
   "source": [
    "#Define the hyperparameters\n",
    "\n",
    "BATCH_SIZE = 64\n",
    "EPOCHS = 15\n",
    "\n",
    "#Define the hyperparamets to tune and the variations we want to test.\n",
    "HP_FILTER_SIZE = hp.HParam('filter_size', hp.Discrete([3,5,7]))\n",
    "HP_FILTER_NUM = hp.HParam('filter_num', hp.Discrete([32, 64, 96, 128]))\n",
    "\n",
    "METRIC_ACCURACY = 'accuracy'\n",
    "\n",
    "#Log the hyperparameter with the file writer\n",
    "with tf.summary.create_file_writer('Logs/Model 1/hparam_tuning/').as_default():\n",
    "    hp.hparams_config(\n",
    "        hparams=[HP_FILTER_SIZE, HP_FILTER_NUM], \n",
    "        metrics= [hp.Metric(METRIC_ACCURACY, display_name='Accuracy')]\n",
    "    )\n",
    "\n"
   ]
  },
  {
   "cell_type": "code",
   "execution_count": 5,
   "id": "de25b3ca",
   "metadata": {},
   "outputs": [],
   "source": [
    "def train_model(hparams,session_num):\n",
    "    \n",
    "    \n",
    "#Create and train the model\n",
    "\n",
    "\n",
    "    \n",
    "    model = Sequential([\n",
    "                Conv2D(32, 3, activation= 'relu', input_shape=(120,90,3)),\n",
    "                MaxPooling2D(pool_size=(2,2)),\n",
    "                Conv2D(32, 3, activation= 'relu'),\n",
    "                MaxPooling2D(pool_size=(2,2)),\n",
    "                Flatten(),\n",
    "                Dense(3)\n",
    "    ])\n",
    "\n",
    "\n",
    "#describe the loss function\n",
    "    loss_fn = tf.keras.losses.SparseCategoricalCrossentropy(from_logits=True)\n",
    "\n",
    "#Compile the model\n",
    "    model.compile(optimizer='adam', loss=loss_fn, metrics=['accuracy'])\n",
    "    log_dir = f\"Logs/Model 1/fit/run-{session_num}\"\n",
    "\n",
    "    \n",
    "        \n",
    "        \n",
    "        \n",
    "#Plot_to_image\n",
    "\n",
    "    def plot_confusion_matrix(cm, class_names):\n",
    " \n",
    "        figure = plt.figure(figsize=(8, 8))\n",
    "        plt.imshow(cm, interpolation='nearest', cmap=plt.cm.Blues)\n",
    "        plt.title(\"Confusion matrix\")\n",
    "        plt.colorbar()\n",
    "        tick_marks = np.arange(len(class_names))\n",
    "        plt.xticks(tick_marks, class_names, rotation=45)\n",
    "        plt.yticks(tick_marks, class_names)\n",
    "\n",
    "        # Compute the labels from the normalized confusion matrix.\n",
    "        labels = np.around(cm.astype('float') / cm.sum(axis=1)[:, np.newaxis], decimals=2)\n",
    "\n",
    "        # Use white text if squares are dark; otherwise black.\n",
    "        threshold = cm.max() / 2.\n",
    "        for i, j in itertools.product(range(cm.shape[0]), range(cm.shape[1])):\n",
    "            color = \"white\" if cm[i, j] > threshold else \"black\"\n",
    "            plt.text(j, i, labels[i, j], horizontalalignment=\"center\", color=color)\n",
    "\n",
    "        plt.tight_layout()\n",
    "        plt.ylabel('True label')\n",
    "        plt.xlabel('Predicted label')\n",
    "        return figure\n",
    "    \n",
    "\n",
    "\n",
    "\n",
    "    def plot_to_image(figure):\n",
    "       \n",
    "        # Save the plot to a PNG in memory.\n",
    "        buf = io.BytesIO()\n",
    "        plt.savefig(buf, format='png')\n",
    "        # Closing the figure prevents it from being displayed directly inside\n",
    "        # the notebook.\n",
    "        plt.close(figure)\n",
    "        buf.seek(0)\n",
    "        # Convert PNG buffer to TF image\n",
    "        image = tf.image.decode_png(buf.getvalue(), channels=4)\n",
    "        # Add the batch dimension\n",
    "        image = tf.expand_dims(image, 0)\n",
    "        return image\n",
    "\n",
    "\n",
    "        \n",
    "    # log the confusion matrix as a heatmap\n",
    "    file_writer_cm = tf.summary.create_file_writer(log_dir + '/cm')\n",
    "\n",
    "\n",
    "    def log_confusion_matrix(epoch, logs):\n",
    "        # Use the model to predict the values from the validation dataset.\n",
    "        val_pred_raw = model.predict(images_val)\n",
    "        val_pred = np.argmax(val_pred_raw, axis=1)\n",
    "\n",
    "        # Calculate the confusion matrix.\n",
    "        cm = confusion_matrix(labels_val, val_pred)\n",
    "        # Log the confusion matrix as an image summary.\n",
    "        figure = plot_confusion_matrix(cm, class_names=[\"Glasses/Sunglassses\", \"Trousers/Jeans\", \"Shoes\"])\n",
    "        cm_image = plot_to_image(figure)\n",
    "\n",
    "        # Log the confusion matrix as an image summary.\n",
    "        with file_writer_cm.as_default():\n",
    "            tf.summary.image(\"Confusion_matrix\", cm_image, step=epoch)\n",
    "\n",
    "    # Define the per-epoch callback.\n",
    "    cm_callback = LambdaCallback(on_epoch_end=log_confusion_matrix)\n",
    "\n",
    "\n",
    "    tensorboard_callback = TensorBoard(log_dir=log_dir, histogram_freq=1)\n",
    "\n",
    "\n",
    "    early_stopping = EarlyStopping(\n",
    "        monitor= 'val_loss',\n",
    "        mode = 'auto',\n",
    "        min_delta = 0,\n",
    "        patience = 2,\n",
    "        verbose = 0,\n",
    "        restore_best_weights = True\n",
    "    )\n",
    "\n",
    "\n",
    "#Train the model\n",
    "    model.fit(\n",
    "        images_train,\n",
    "        labels_train,\n",
    "        epochs = EPOCHS,\n",
    "        batch_size = BATCH_SIZE,\n",
    "        callbacks = [tensorboard_callback, cm_callback, early_stopping],\n",
    "        validation_data = (images_val, labels_val),\n",
    "        verbose =2\n",
    "    )\n",
    "\n",
    "    _,accuracy = model.evaluate(images_val, labels_val)\n",
    "\n",
    "    model.save(f\"saved_model/Model 1/fit/run-{session_num}\")\n",
    "\n",
    "\n",
    "    return accuracy\n",
    "\n"
   ]
  },
  {
   "cell_type": "code",
   "execution_count": 6,
   "id": "4fb505ee",
   "metadata": {
    "scrolled": true
   },
   "outputs": [
    {
     "name": "stdout",
     "output_type": "stream",
     "text": [
      "---Starting trial: run-1\n",
      "{'filter_size': 3, 'filter_num': 32}\n",
      "Epoch 1/15\n",
      "51/51 [==============================] - 2s 30ms/step\n",
      "203/203 - 39s - loss: 0.0965 - accuracy: 0.9724 - val_loss: 0.0066 - val_accuracy: 0.9994 - 39s/epoch - 194ms/step\n",
      "Epoch 2/15\n",
      "51/51 [==============================] - 2s 29ms/step\n",
      "203/203 - 40s - loss: 0.0112 - accuracy: 0.9982 - val_loss: 0.0034 - val_accuracy: 0.9994 - 40s/epoch - 198ms/step\n",
      "Epoch 3/15\n",
      "51/51 [==============================] - 1s 29ms/step\n",
      "203/203 - 40s - loss: 0.0121 - accuracy: 0.9983 - val_loss: 0.0190 - val_accuracy: 0.9963 - 40s/epoch - 199ms/step\n",
      "Epoch 4/15\n",
      "51/51 [==============================] - 2s 29ms/step\n",
      "203/203 - 41s - loss: 0.0070 - accuracy: 0.9992 - val_loss: 0.0033 - val_accuracy: 0.9994 - 41s/epoch - 201ms/step\n",
      "Epoch 5/15\n",
      "51/51 [==============================] - 2s 30ms/step\n",
      "203/203 - 41s - loss: 0.0065 - accuracy: 0.9991 - val_loss: 0.0048 - val_accuracy: 0.9981 - 41s/epoch - 200ms/step\n",
      "Epoch 6/15\n",
      "51/51 [==============================] - 1s 29ms/step\n",
      "203/203 - 41s - loss: 0.0038 - accuracy: 0.9995 - val_loss: 0.0035 - val_accuracy: 0.9988 - 41s/epoch - 203ms/step\n",
      "51/51 [==============================] - 2s 35ms/step - loss: 0.0033 - accuracy: 0.9994\n",
      "INFO:tensorflow:Assets written to: saved_model/Model 1/fit/run-1\\assets\n"
     ]
    },
    {
     "name": "stderr",
     "output_type": "stream",
     "text": [
      "INFO:tensorflow:Assets written to: saved_model/Model 1/fit/run-1\\assets\n"
     ]
    },
    {
     "name": "stdout",
     "output_type": "stream",
     "text": [
      "---Starting trial: run-2\n",
      "{'filter_size': 3, 'filter_num': 64}\n",
      "Epoch 1/15\n",
      "51/51 [==============================] - 2s 36ms/step\n",
      "203/203 - 52s - loss: 0.1115 - accuracy: 0.9674 - val_loss: 0.0110 - val_accuracy: 0.9975 - 52s/epoch - 257ms/step\n",
      "Epoch 2/15\n",
      "51/51 [==============================] - 2s 33ms/step\n",
      "203/203 - 49s - loss: 0.0143 - accuracy: 0.9985 - val_loss: 0.0042 - val_accuracy: 0.9994 - 49s/epoch - 242ms/step\n",
      "Epoch 3/15\n",
      "51/51 [==============================] - 2s 31ms/step\n",
      "203/203 - 48s - loss: 0.0102 - accuracy: 0.9986 - val_loss: 0.0059 - val_accuracy: 0.9988 - 48s/epoch - 235ms/step\n",
      "Epoch 4/15\n",
      "51/51 [==============================] - 2s 31ms/step\n",
      "203/203 - 46s - loss: 0.0069 - accuracy: 0.9993 - val_loss: 0.0029 - val_accuracy: 0.9994 - 46s/epoch - 228ms/step\n",
      "Epoch 5/15\n",
      "51/51 [==============================] - 2s 30ms/step\n",
      "203/203 - 45s - loss: 0.0061 - accuracy: 0.9994 - val_loss: 0.0037 - val_accuracy: 0.9994 - 45s/epoch - 222ms/step\n",
      "Epoch 6/15\n",
      "51/51 [==============================] - 2s 30ms/step\n",
      "203/203 - 45s - loss: 0.0064 - accuracy: 0.9989 - val_loss: 0.0055 - val_accuracy: 0.9975 - 45s/epoch - 222ms/step\n",
      "51/51 [==============================] - 2s 28ms/step - loss: 0.0029 - accuracy: 0.9994\n",
      "INFO:tensorflow:Assets written to: saved_model/Model 1/fit/run-2\\assets\n"
     ]
    },
    {
     "name": "stderr",
     "output_type": "stream",
     "text": [
      "INFO:tensorflow:Assets written to: saved_model/Model 1/fit/run-2\\assets\n"
     ]
    },
    {
     "name": "stdout",
     "output_type": "stream",
     "text": [
      "---Starting trial: run-3\n",
      "{'filter_size': 3, 'filter_num': 96}\n",
      "Epoch 1/15\n",
      "51/51 [==============================] - 2s 34ms/step\n",
      "203/203 - 49s - loss: 0.0762 - accuracy: 0.9800 - val_loss: 0.0088 - val_accuracy: 0.9988 - 49s/epoch - 240ms/step\n",
      "Epoch 2/15\n",
      "51/51 [==============================] - 2s 32ms/step\n",
      "203/203 - 48s - loss: 0.0100 - accuracy: 0.9988 - val_loss: 0.0036 - val_accuracy: 0.9994 - 48s/epoch - 236ms/step\n",
      "Epoch 3/15\n",
      "51/51 [==============================] - 2s 33ms/step\n",
      "203/203 - 49s - loss: 0.0094 - accuracy: 0.9988 - val_loss: 0.0027 - val_accuracy: 0.9994 - 49s/epoch - 242ms/step\n",
      "Epoch 4/15\n",
      "51/51 [==============================] - 2s 31ms/step\n",
      "203/203 - 49s - loss: 0.0093 - accuracy: 0.9983 - val_loss: 0.0341 - val_accuracy: 0.9907 - 49s/epoch - 240ms/step\n",
      "Epoch 5/15\n",
      "51/51 [==============================] - 2s 31ms/step\n",
      "203/203 - 46s - loss: 0.0136 - accuracy: 0.9972 - val_loss: 0.0042 - val_accuracy: 0.9988 - 46s/epoch - 228ms/step\n",
      "51/51 [==============================] - 1s 29ms/step - loss: 0.0027 - accuracy: 0.9994\n",
      "INFO:tensorflow:Assets written to: saved_model/Model 1/fit/run-3\\assets\n"
     ]
    },
    {
     "name": "stderr",
     "output_type": "stream",
     "text": [
      "INFO:tensorflow:Assets written to: saved_model/Model 1/fit/run-3\\assets\n"
     ]
    },
    {
     "name": "stdout",
     "output_type": "stream",
     "text": [
      "---Starting trial: run-4\n",
      "{'filter_size': 3, 'filter_num': 128}\n",
      "Epoch 1/15\n",
      "51/51 [==============================] - 2s 34ms/step\n",
      "203/203 - 46s - loss: 0.0960 - accuracy: 0.9695 - val_loss: 0.0084 - val_accuracy: 0.9988 - 46s/epoch - 227ms/step\n",
      "Epoch 2/15\n",
      "51/51 [==============================] - 2s 31ms/step\n",
      "203/203 - 48s - loss: 0.0135 - accuracy: 0.9983 - val_loss: 0.0033 - val_accuracy: 0.9988 - 48s/epoch - 235ms/step\n",
      "Epoch 3/15\n",
      "51/51 [==============================] - 2s 32ms/step\n",
      "203/203 - 48s - loss: 0.0072 - accuracy: 0.9990 - val_loss: 0.0048 - val_accuracy: 0.9994 - 48s/epoch - 236ms/step\n",
      "Epoch 4/15\n",
      "51/51 [==============================] - 2s 32ms/step\n",
      "203/203 - 48s - loss: 0.0058 - accuracy: 0.9995 - val_loss: 0.0079 - val_accuracy: 0.9981 - 48s/epoch - 239ms/step\n",
      "51/51 [==============================] - 2s 29ms/step - loss: 0.0033 - accuracy: 0.9988\n",
      "INFO:tensorflow:Assets written to: saved_model/Model 1/fit/run-4\\assets\n"
     ]
    },
    {
     "name": "stderr",
     "output_type": "stream",
     "text": [
      "INFO:tensorflow:Assets written to: saved_model/Model 1/fit/run-4\\assets\n"
     ]
    },
    {
     "name": "stdout",
     "output_type": "stream",
     "text": [
      "---Starting trial: run-5\n",
      "{'filter_size': 5, 'filter_num': 32}\n",
      "Epoch 1/15\n",
      "51/51 [==============================] - 2s 31ms/step\n",
      "203/203 - 49s - loss: 0.0855 - accuracy: 0.9772 - val_loss: 0.0159 - val_accuracy: 0.9981 - 49s/epoch - 241ms/step\n",
      "Epoch 2/15\n",
      "51/51 [==============================] - 2s 30ms/step\n",
      "203/203 - 42s - loss: 0.0142 - accuracy: 0.9981 - val_loss: 0.0048 - val_accuracy: 0.9988 - 42s/epoch - 209ms/step\n",
      "Epoch 3/15\n",
      "51/51 [==============================] - 2s 31ms/step\n",
      "203/203 - 43s - loss: 0.0107 - accuracy: 0.9982 - val_loss: 0.0040 - val_accuracy: 0.9994 - 43s/epoch - 213ms/step\n",
      "Epoch 4/15\n",
      "51/51 [==============================] - 2s 30ms/step\n",
      "203/203 - 44s - loss: 0.0076 - accuracy: 0.9992 - val_loss: 0.0053 - val_accuracy: 0.9994 - 44s/epoch - 219ms/step\n",
      "Epoch 5/15\n",
      "51/51 [==============================] - 2s 31ms/step\n",
      "203/203 - 47s - loss: 0.0060 - accuracy: 0.9990 - val_loss: 0.0034 - val_accuracy: 0.9994 - 47s/epoch - 234ms/step\n",
      "Epoch 6/15\n",
      "51/51 [==============================] - 2s 30ms/step\n",
      "203/203 - 50s - loss: 0.0064 - accuracy: 0.9991 - val_loss: 0.0044 - val_accuracy: 0.9988 - 50s/epoch - 245ms/step\n",
      "Epoch 7/15\n",
      "51/51 [==============================] - 2s 31ms/step\n",
      "203/203 - 48s - loss: 0.0035 - accuracy: 0.9992 - val_loss: 0.0039 - val_accuracy: 0.9994 - 48s/epoch - 238ms/step\n",
      "51/51 [==============================] - 2s 30ms/step - loss: 0.0034 - accuracy: 0.9994\n",
      "INFO:tensorflow:Assets written to: saved_model/Model 1/fit/run-5\\assets\n"
     ]
    },
    {
     "name": "stderr",
     "output_type": "stream",
     "text": [
      "INFO:tensorflow:Assets written to: saved_model/Model 1/fit/run-5\\assets\n"
     ]
    },
    {
     "name": "stdout",
     "output_type": "stream",
     "text": [
      "---Starting trial: run-6\n",
      "{'filter_size': 5, 'filter_num': 64}\n",
      "Epoch 1/15\n",
      "51/51 [==============================] - 2s 35ms/step\n",
      "203/203 - 50s - loss: 0.0805 - accuracy: 0.9765 - val_loss: 0.0057 - val_accuracy: 0.9994 - 50s/epoch - 247ms/step\n",
      "Epoch 2/15\n",
      "51/51 [==============================] - 2s 32ms/step\n",
      "203/203 - 49s - loss: 0.0140 - accuracy: 0.9984 - val_loss: 0.0043 - val_accuracy: 0.9994 - 49s/epoch - 239ms/step\n",
      "Epoch 3/15\n",
      "51/51 [==============================] - 2s 33ms/step\n",
      "203/203 - 50s - loss: 0.0089 - accuracy: 0.9990 - val_loss: 0.0078 - val_accuracy: 0.9975 - 50s/epoch - 247ms/step\n",
      "Epoch 4/15\n",
      "51/51 [==============================] - 2s 31ms/step\n",
      "203/203 - 49s - loss: 0.0072 - accuracy: 0.9993 - val_loss: 0.0025 - val_accuracy: 0.9994 - 49s/epoch - 239ms/step\n",
      "Epoch 5/15\n",
      "51/51 [==============================] - 2s 33ms/step\n",
      "203/203 - 48s - loss: 0.0055 - accuracy: 0.9995 - val_loss: 0.0057 - val_accuracy: 0.9981 - 48s/epoch - 234ms/step\n",
      "Epoch 6/15\n",
      "51/51 [==============================] - 2s 32ms/step\n",
      "203/203 - 48s - loss: 0.0032 - accuracy: 0.9995 - val_loss: 0.0030 - val_accuracy: 0.9994 - 48s/epoch - 234ms/step\n",
      "51/51 [==============================] - 2s 29ms/step - loss: 0.0025 - accuracy: 0.9994\n",
      "INFO:tensorflow:Assets written to: saved_model/Model 1/fit/run-6\\assets\n"
     ]
    },
    {
     "name": "stderr",
     "output_type": "stream",
     "text": [
      "INFO:tensorflow:Assets written to: saved_model/Model 1/fit/run-6\\assets\n"
     ]
    },
    {
     "name": "stdout",
     "output_type": "stream",
     "text": [
      "---Starting trial: run-7\n",
      "{'filter_size': 5, 'filter_num': 96}\n",
      "Epoch 1/15\n",
      "51/51 [==============================] - 2s 35ms/step\n",
      "203/203 - 50s - loss: 0.0910 - accuracy: 0.9696 - val_loss: 0.0046 - val_accuracy: 0.9994 - 50s/epoch - 249ms/step\n",
      "Epoch 2/15\n",
      "51/51 [==============================] - 2s 34ms/step\n",
      "203/203 - 48s - loss: 0.0140 - accuracy: 0.9978 - val_loss: 0.0031 - val_accuracy: 0.9994 - 48s/epoch - 236ms/step\n",
      "Epoch 3/15\n",
      "51/51 [==============================] - 2s 31ms/step\n",
      "203/203 - 48s - loss: 0.0100 - accuracy: 0.9988 - val_loss: 0.0056 - val_accuracy: 0.9981 - 48s/epoch - 236ms/step\n",
      "Epoch 4/15\n",
      "51/51 [==============================] - 2s 31ms/step\n",
      "203/203 - 47s - loss: 0.0077 - accuracy: 0.9994 - val_loss: 0.0092 - val_accuracy: 0.9981 - 47s/epoch - 232ms/step\n",
      "51/51 [==============================] - 2s 29ms/step - loss: 0.0031 - accuracy: 0.9994\n",
      "INFO:tensorflow:Assets written to: saved_model/Model 1/fit/run-7\\assets\n"
     ]
    },
    {
     "name": "stderr",
     "output_type": "stream",
     "text": [
      "INFO:tensorflow:Assets written to: saved_model/Model 1/fit/run-7\\assets\n"
     ]
    },
    {
     "name": "stdout",
     "output_type": "stream",
     "text": [
      "---Starting trial: run-8\n",
      "{'filter_size': 5, 'filter_num': 128}\n",
      "Epoch 1/15\n",
      "51/51 [==============================] - 2s 34ms/step\n",
      "203/203 - 49s - loss: 0.1076 - accuracy: 0.9650 - val_loss: 0.0072 - val_accuracy: 0.9981 - 49s/epoch - 242ms/step\n",
      "Epoch 2/15\n",
      "51/51 [==============================] - 2s 31ms/step\n",
      "203/203 - 47s - loss: 0.0143 - accuracy: 0.9985 - val_loss: 0.0039 - val_accuracy: 0.9994 - 47s/epoch - 229ms/step\n",
      "Epoch 3/15\n",
      "51/51 [==============================] - 2s 31ms/step\n",
      "203/203 - 48s - loss: 0.0114 - accuracy: 0.9979 - val_loss: 0.0059 - val_accuracy: 0.9994 - 48s/epoch - 236ms/step\n",
      "Epoch 4/15\n",
      "51/51 [==============================] - 2s 31ms/step\n",
      "203/203 - 45s - loss: 0.0069 - accuracy: 0.9994 - val_loss: 0.0030 - val_accuracy: 0.9994 - 45s/epoch - 221ms/step\n",
      "Epoch 5/15\n",
      "51/51 [==============================] - 2s 31ms/step\n",
      "203/203 - 46s - loss: 0.0057 - accuracy: 0.9994 - val_loss: 0.0032 - val_accuracy: 0.9994 - 46s/epoch - 224ms/step\n",
      "Epoch 6/15\n",
      "51/51 [==============================] - 2s 30ms/step\n",
      "203/203 - 45s - loss: 0.0080 - accuracy: 0.9987 - val_loss: 0.0040 - val_accuracy: 0.9988 - 45s/epoch - 222ms/step\n",
      "51/51 [==============================] - 1s 28ms/step - loss: 0.0030 - accuracy: 0.9994\n",
      "INFO:tensorflow:Assets written to: saved_model/Model 1/fit/run-8\\assets\n"
     ]
    },
    {
     "name": "stderr",
     "output_type": "stream",
     "text": [
      "INFO:tensorflow:Assets written to: saved_model/Model 1/fit/run-8\\assets\n"
     ]
    },
    {
     "name": "stdout",
     "output_type": "stream",
     "text": [
      "---Starting trial: run-9\n",
      "{'filter_size': 7, 'filter_num': 32}\n",
      "Epoch 1/15\n",
      "51/51 [==============================] - 2s 34ms/step\n",
      "203/203 - 46s - loss: 0.1015 - accuracy: 0.9652 - val_loss: 0.0141 - val_accuracy: 0.9981 - 46s/epoch - 225ms/step\n",
      "Epoch 2/15\n",
      "51/51 [==============================] - 2s 32ms/step\n",
      "203/203 - 45s - loss: 0.0145 - accuracy: 0.9978 - val_loss: 0.0065 - val_accuracy: 0.9981 - 45s/epoch - 220ms/step\n",
      "Epoch 3/15\n",
      "51/51 [==============================] - 2s 33ms/step\n",
      "203/203 - 46s - loss: 0.0084 - accuracy: 0.9991 - val_loss: 0.0068 - val_accuracy: 0.9988 - 46s/epoch - 227ms/step\n",
      "Epoch 4/15\n",
      "51/51 [==============================] - 2s 32ms/step\n",
      "203/203 - 46s - loss: 0.0065 - accuracy: 0.9992 - val_loss: 0.0048 - val_accuracy: 0.9988 - 46s/epoch - 228ms/step\n",
      "Epoch 5/15\n",
      "51/51 [==============================] - 2s 32ms/step\n",
      "203/203 - 45s - loss: 0.0043 - accuracy: 0.9995 - val_loss: 0.0157 - val_accuracy: 0.9969 - 45s/epoch - 222ms/step\n",
      "Epoch 6/15\n",
      "51/51 [==============================] - 2s 31ms/step\n",
      "203/203 - 44s - loss: 0.0033 - accuracy: 0.9996 - val_loss: 0.0089 - val_accuracy: 0.9981 - 44s/epoch - 216ms/step\n",
      "51/51 [==============================] - 2s 29ms/step - loss: 0.0048 - accuracy: 0.9988\n",
      "INFO:tensorflow:Assets written to: saved_model/Model 1/fit/run-9\\assets\n"
     ]
    },
    {
     "name": "stderr",
     "output_type": "stream",
     "text": [
      "INFO:tensorflow:Assets written to: saved_model/Model 1/fit/run-9\\assets\n"
     ]
    },
    {
     "name": "stdout",
     "output_type": "stream",
     "text": [
      "---Starting trial: run-10\n",
      "{'filter_size': 7, 'filter_num': 64}\n",
      "Epoch 1/15\n",
      "51/51 [==============================] - 2s 34ms/step\n",
      "203/203 - 49s - loss: 0.0747 - accuracy: 0.9807 - val_loss: 0.0043 - val_accuracy: 0.9994 - 49s/epoch - 241ms/step\n",
      "Epoch 2/15\n",
      "51/51 [==============================] - 2s 30ms/step\n",
      "203/203 - 45s - loss: 0.0135 - accuracy: 0.9985 - val_loss: 0.0055 - val_accuracy: 0.9988 - 45s/epoch - 220ms/step\n",
      "Epoch 3/15\n",
      "51/51 [==============================] - 2s 31ms/step\n",
      "203/203 - 45s - loss: 0.0102 - accuracy: 0.9985 - val_loss: 0.0083 - val_accuracy: 0.9981 - 45s/epoch - 220ms/step\n",
      "51/51 [==============================] - 1s 29ms/step - loss: 0.0043 - accuracy: 0.9994\n",
      "INFO:tensorflow:Assets written to: saved_model/Model 1/fit/run-10\\assets\n"
     ]
    },
    {
     "name": "stderr",
     "output_type": "stream",
     "text": [
      "INFO:tensorflow:Assets written to: saved_model/Model 1/fit/run-10\\assets\n"
     ]
    },
    {
     "name": "stdout",
     "output_type": "stream",
     "text": [
      "---Starting trial: run-11\n",
      "{'filter_size': 7, 'filter_num': 96}\n",
      "Epoch 1/15\n",
      "51/51 [==============================] - 2s 33ms/step\n",
      "203/203 - 46s - loss: 0.0738 - accuracy: 0.9801 - val_loss: 0.0112 - val_accuracy: 0.9988 - 46s/epoch - 226ms/step\n",
      "Epoch 2/15\n",
      "51/51 [==============================] - 2s 31ms/step\n",
      "203/203 - 42s - loss: 0.0152 - accuracy: 0.9977 - val_loss: 0.0049 - val_accuracy: 0.9981 - 42s/epoch - 209ms/step\n",
      "Epoch 3/15\n",
      "51/51 [==============================] - 2s 33ms/step\n",
      "203/203 - 43s - loss: 0.0102 - accuracy: 0.9987 - val_loss: 0.0032 - val_accuracy: 0.9988 - 43s/epoch - 209ms/step\n",
      "Epoch 4/15\n",
      "51/51 [==============================] - 3s 54ms/step\n",
      "203/203 - 56s - loss: 0.0077 - accuracy: 0.9989 - val_loss: 0.0030 - val_accuracy: 0.9988 - 56s/epoch - 274ms/step\n",
      "Epoch 5/15\n",
      "51/51 [==============================] - 3s 52ms/step\n",
      "203/203 - 72s - loss: 0.0059 - accuracy: 0.9991 - val_loss: 0.0279 - val_accuracy: 0.9957 - 72s/epoch - 354ms/step\n",
      "Epoch 6/15\n",
      "51/51 [==============================] - 3s 52ms/step\n",
      "203/203 - 71s - loss: 0.0067 - accuracy: 0.9988 - val_loss: 0.0022 - val_accuracy: 0.9988 - 71s/epoch - 351ms/step\n",
      "Epoch 7/15\n",
      "51/51 [==============================] - 2s 48ms/step\n",
      "203/203 - 69s - loss: 0.0031 - accuracy: 0.9997 - val_loss: 0.0023 - val_accuracy: 0.9988 - 69s/epoch - 339ms/step\n",
      "Epoch 8/15\n",
      "51/51 [==============================] - 3s 54ms/step\n",
      "203/203 - 69s - loss: 0.0036 - accuracy: 0.9995 - val_loss: 0.0184 - val_accuracy: 0.9951 - 69s/epoch - 338ms/step\n",
      "51/51 [==============================] - 2s 44ms/step - loss: 0.0022 - accuracy: 0.9988\n",
      "INFO:tensorflow:Assets written to: saved_model/Model 1/fit/run-11\\assets\n"
     ]
    },
    {
     "name": "stderr",
     "output_type": "stream",
     "text": [
      "INFO:tensorflow:Assets written to: saved_model/Model 1/fit/run-11\\assets\n"
     ]
    },
    {
     "name": "stdout",
     "output_type": "stream",
     "text": [
      "---Starting trial: run-12\n",
      "{'filter_size': 7, 'filter_num': 128}\n",
      "Epoch 1/15\n",
      "51/51 [==============================] - 3s 52ms/step\n",
      "203/203 - 73s - loss: 0.0771 - accuracy: 0.9759 - val_loss: 0.0051 - val_accuracy: 0.9988 - 73s/epoch - 357ms/step\n",
      "Epoch 2/15\n",
      "51/51 [==============================] - 3s 50ms/step\n",
      "203/203 - 69s - loss: 0.0108 - accuracy: 0.9983 - val_loss: 0.0045 - val_accuracy: 0.9988 - 69s/epoch - 340ms/step\n",
      "Epoch 3/15\n",
      "51/51 [==============================] - 3s 49ms/step\n",
      "203/203 - 70s - loss: 0.0101 - accuracy: 0.9987 - val_loss: 0.0066 - val_accuracy: 0.9988 - 70s/epoch - 344ms/step\n",
      "Epoch 4/15\n",
      "51/51 [==============================] - 3s 49ms/step\n",
      "203/203 - 70s - loss: 0.0079 - accuracy: 0.9988 - val_loss: 0.0057 - val_accuracy: 0.9981 - 70s/epoch - 346ms/step\n",
      "51/51 [==============================] - 3s 53ms/step - loss: 0.0045 - accuracy: 0.9988\n",
      "INFO:tensorflow:Assets written to: saved_model/Model 1/fit/run-12\\assets\n"
     ]
    },
    {
     "name": "stderr",
     "output_type": "stream",
     "text": [
      "INFO:tensorflow:Assets written to: saved_model/Model 1/fit/run-12\\assets\n"
     ]
    }
   ],
   "source": [
    "#Log the hyperparameter to the TensorBoard\n",
    "\n",
    "\n",
    "\n",
    "def run(log_dir, hparams,session_num):\n",
    "    hyperparameter_writer = tf.summary.create_file_writer(log_dir)\n",
    "    \n",
    "    \n",
    "    with hyperparameter_writer.as_default():\n",
    "        hp.hparams(hparams) #record the values used in this trial\n",
    "        accuracy = train_model(hparams, session_num)\n",
    "        tf.summary.scalar(METRIC_ACCURACY, accuracy, step=1)\n",
    "        \n",
    "        \n",
    "        \n",
    "        \n",
    "        \n",
    "#Train the model with the different hyperparameters\n",
    "session_num = 1\n",
    "for filter_size in HP_FILTER_SIZE.domain.values:\n",
    "    for filter_num in HP_FILTER_NUM.domain.values:\n",
    "        hparams ={\n",
    "        HP_FILTER_SIZE: filter_size,\n",
    "        HP_FILTER_NUM : filter_num\n",
    "        }\n",
    "        \n",
    "        run_name = \"run-%d\" % session_num\n",
    "        print('---Starting trial: %s' % run_name)\n",
    "        print({h.name: hparams[h] for h in hparams})\n",
    "        run('Logs/Model 1/hparam_tuning/' + run_name, hparams, session_num)\n",
    "        \n",
    "        session_num += 1\n",
    "       \n",
    "        \n",
    "\n",
    "       \n",
    "        \n",
    "        \n",
    "        \n",
    "\n",
    "\n",
    "\n",
    "\n",
    "\n",
    "\n"
   ]
  },
  {
   "cell_type": "code",
   "execution_count": null,
   "id": "c60a19ba",
   "metadata": {
    "scrolled": true
   },
   "outputs": [],
   "source": []
  },
  {
   "cell_type": "code",
   "execution_count": 7,
   "id": "a38f19ed",
   "metadata": {
    "scrolled": true
   },
   "outputs": [
    {
     "data": {
      "text/html": [
       "\n",
       "      <iframe id=\"tensorboard-frame-17c997bbc3ed91f3\" width=\"100%\" height=\"800\" frameborder=\"0\">\n",
       "      </iframe>\n",
       "      <script>\n",
       "        (function() {\n",
       "          const frame = document.getElementById(\"tensorboard-frame-17c997bbc3ed91f3\");\n",
       "          const url = new URL(\"/\", window.location);\n",
       "          const port = 6006;\n",
       "          if (port) {\n",
       "            url.port = port;\n",
       "          }\n",
       "          frame.src = url;\n",
       "        })();\n",
       "      </script>\n",
       "    "
      ],
      "text/plain": [
       "<IPython.core.display.HTML object>"
      ]
     },
     "metadata": {},
     "output_type": "display_data"
    }
   ],
   "source": [
    "%load_ext tensorboard\n",
    "%tensorboard --logdir 'Logs/Model 1/hparam_tuning'\n"
   ]
  },
  {
   "cell_type": "code",
   "execution_count": 8,
   "id": "6e1505de",
   "metadata": {},
   "outputs": [
    {
     "name": "stdout",
     "output_type": "stream",
     "text": [
      "The tensorboard extension is already loaded. To reload it, use:\n",
      "  %reload_ext tensorboard\n"
     ]
    },
    {
     "data": {
      "text/html": [
       "\n",
       "      <iframe id=\"tensorboard-frame-8c397511b0172603\" width=\"100%\" height=\"800\" frameborder=\"0\">\n",
       "      </iframe>\n",
       "      <script>\n",
       "        (function() {\n",
       "          const frame = document.getElementById(\"tensorboard-frame-8c397511b0172603\");\n",
       "          const url = new URL(\"/\", window.location);\n",
       "          const port = 6006;\n",
       "          if (port) {\n",
       "            url.port = port;\n",
       "          }\n",
       "          frame.src = url;\n",
       "        })();\n",
       "      </script>\n",
       "    "
      ],
      "text/plain": [
       "<IPython.core.display.HTML object>"
      ]
     },
     "metadata": {},
     "output_type": "display_data"
    }
   ],
   "source": [
    "%load_ext tensorboard\n",
    "%tensorboard --logdir 'Logs/Model 1/fit'"
   ]
  },
  {
   "cell_type": "code",
   "execution_count": null,
   "id": "8b29b717",
   "metadata": {},
   "outputs": [],
   "source": []
  },
  {
   "cell_type": "code",
   "execution_count": null,
   "id": "09562aa7",
   "metadata": {},
   "outputs": [],
   "source": []
  }
 ],
 "metadata": {
  "kernelspec": {
   "display_name": "Python 3 (ipykernel)",
   "language": "python",
   "name": "python3"
  },
  "language_info": {
   "codemirror_mode": {
    "name": "ipython",
    "version": 3
   },
   "file_extension": ".py",
   "mimetype": "text/x-python",
   "name": "python",
   "nbconvert_exporter": "python",
   "pygments_lexer": "ipython3",
   "version": "3.11.5"
  }
 },
 "nbformat": 4,
 "nbformat_minor": 5
}
