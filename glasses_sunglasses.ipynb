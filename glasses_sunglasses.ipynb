{
 "cells": [
  {
   "cell_type": "code",
   "execution_count": 29,
   "id": "b10c8f4c",
   "metadata": {},
   "outputs": [],
   "source": [
    "#Import relevant libraries\n",
    "import io\n",
    "import itertools\n",
    "import sklearn.metrics\n",
    "import tensorflow as tf\n",
    "from tensorflow import keras\n",
    "from tensorflow.keras.models import Sequential\n",
    "from tensorflow.keras.callbacks import EarlyStopping, TensorBoard, LambdaCallback\n",
    "from tensorflow.keras.layers import Conv2D, MaxPooling2D, Flatten, Dense\n",
    "# import datetime\n",
    "from sklearn.metrics import confusion_matrix, ConfusionMatrixDisplay\n",
    "import matplotlib.pyplot as plt\n",
    "import numpy as np\n",
    "import seaborn as sns\n",
    "from tensorboard.plugins.hparams import api as hp"
   ]
  },
  {
   "cell_type": "code",
   "execution_count": null,
   "id": "1ee01140",
   "metadata": {},
   "outputs": [],
   "source": []
  },
  {
   "cell_type": "code",
   "execution_count": 30,
   "id": "2c0194fb",
   "metadata": {},
   "outputs": [],
   "source": [
    "#Dataset encoding explaination.\n",
    "#image labelling - 0=glasses/sunglasses. 1= trousers/jeans. 3= shoes"
   ]
  },
  {
   "cell_type": "code",
   "execution_count": 31,
   "id": "ba424d12",
   "metadata": {},
   "outputs": [],
   "source": [
    "#Import the datasets and preprocess\n",
    "\n",
    "data_train = np.load(r'Full Dataset/Glasses & Sunglasses - Train.npz')\n",
    "data_validation = np.load(r'Full Dataset/Glasses & Sunglasses - Validation.npz')\n",
    "data_test = np.load(r'Full Dataset/Glasses & Sunglasses - Test.npz')\n",
    "\n",
    "\n",
    "#t extract the arrays from dataset into input(images) and target(labels)\n",
    "images_train = data_train['images']\n",
    "labels_train = data_train['labels']\n",
    "\n",
    "images_val = data_validation['images']\n",
    "labels_val = data_validation['labels']\n",
    "\n",
    "\n",
    "images_test = data_test['images']\n",
    "labels_test = data_test['labels']\n",
    "\n",
    "#Pixel-wise normalization of the training, validation and testing data\n",
    "images_train = images_train/255.0\n",
    "images_val  = images_val/255.0\n",
    "images_test = images_test/255.0\n",
    "\n",
    "\n",
    "\n",
    "\n",
    "\n"
   ]
  },
  {
   "cell_type": "code",
   "execution_count": 32,
   "id": "2ab0b511",
   "metadata": {},
   "outputs": [],
   "source": [
    "#Define the hyperparameters\n",
    "\n",
    "BATCH_SIZE = 64\n",
    "EPOCHS = 15\n",
    "\n",
    "#Define the hyperparamets to tune and the variations we want to test.\n",
    "HP_FILTER_SIZE = hp.HParam('filter_size', hp.Discrete([3,5,7]))\n",
    "HP_FILTER_NUM = hp.HParam('filter_num', hp.Discrete([32, 64, 96, 128]))\n",
    "\n",
    "METRIC_ACCURACY = 'accuracy'\n",
    "\n",
    "#Log the hyperparameter with the file writer\n",
    "with tf.summary.create_file_writer('Logs/Model_1/hparam_tuning/').as_default():\n",
    "    hp.hparams_config(\n",
    "        hparams=[HP_FILTER_SIZE, HP_FILTER_NUM], \n",
    "        metrics= [hp.Metric(METRIC_ACCURACY, display_name='Accuracy')]\n",
    "    )\n",
    "\n"
   ]
  },
  {
   "cell_type": "code",
   "execution_count": 33,
   "id": "de25b3ca",
   "metadata": {},
   "outputs": [],
   "source": [
    "def train_model(hparams,session_num):\n",
    "    \n",
    "    \n",
    "#Create and train the model\n",
    "\n",
    "\n",
    "    \n",
    "    model = Sequential([\n",
    "                Conv2D(32, 3, activation= 'relu', input_shape=(120,90,3)),\n",
    "                MaxPooling2D(pool_size=(2,2)),\n",
    "                Conv2D(32, 3, activation= 'relu'),\n",
    "                MaxPooling2D(pool_size=(2,2)),\n",
    "                Flatten(),\n",
    "                Dense(2)\n",
    "    ])\n",
    "\n",
    "\n",
    "#describe the loss function\n",
    "    loss_fn = tf.keras.losses.SparseCategoricalCrossentropy(from_logits=True)\n",
    "\n",
    "#Compile the model\n",
    "    model.compile(optimizer='adam', loss=loss_fn, metrics=['accuracy'])\n",
    "    log_dir = f\"Logs/Model_1/fit/run-{session_num}\"\n",
    "\n",
    "    \n",
    "        \n",
    "        \n",
    "        \n",
    "#Plot_to_image\n",
    "\n",
    "    def plot_confusion_matrix(cm, class_names):\n",
    " \n",
    "        figure = plt.figure(figsize=(8, 8))\n",
    "        plt.imshow(cm, interpolation='nearest', cmap=plt.cm.Blues)\n",
    "        plt.title(\"Confusion matrix\")\n",
    "        plt.colorbar()\n",
    "        tick_marks = np.arange(len(class_names))\n",
    "        plt.xticks(tick_marks, class_names, rotation=45)\n",
    "        plt.yticks(tick_marks, class_names)\n",
    "\n",
    "        # Compute the labels from the normalized confusion matrix.\n",
    "        labels = np.around(cm.astype('float') / cm.sum(axis=1)[:, np.newaxis], decimals=2)\n",
    "\n",
    "        # Use white text if squares are dark; otherwise black.\n",
    "        threshold = cm.max() / 2.\n",
    "        for i, j in itertools.product(range(cm.shape[0]), range(cm.shape[1])):\n",
    "            color = \"white\" if cm[i, j] > threshold else \"black\"\n",
    "            plt.text(j, i, labels[i, j], horizontalalignment=\"center\", color=color)\n",
    "\n",
    "        plt.tight_layout()\n",
    "        plt.ylabel('True label')\n",
    "        plt.xlabel('Predicted label')\n",
    "        return figure\n",
    "    \n",
    "\n",
    "\n",
    "\n",
    "    def plot_to_image(figure):\n",
    "       \n",
    "        # Save the plot to a PNG in memory.\n",
    "        buf = io.BytesIO()\n",
    "        plt.savefig(buf, format='png')\n",
    "        # Closing the figure prevents it from being displayed directly inside\n",
    "        # the notebook.\n",
    "        plt.close(figure)\n",
    "        buf.seek(0)\n",
    "        # Convert PNG buffer to TF image\n",
    "        image = tf.image.decode_png(buf.getvalue(), channels=4)\n",
    "        # Add the batch dimension\n",
    "        image = tf.expand_dims(image, 0)\n",
    "        return image\n",
    "\n",
    "\n",
    "        \n",
    "    # log the confusion matrix as a heatmap\n",
    "    file_writer_cm = tf.summary.create_file_writer(log_dir + '/cm')\n",
    "\n",
    "\n",
    "    def log_confusion_matrix(epoch, logs):\n",
    "        # Use the model to predict the values from the validation dataset.\n",
    "        val_pred_raw = model.predict(images_val)\n",
    "        val_pred = np.argmax(val_pred_raw, axis=1)\n",
    "\n",
    "        # Calculate the confusion matrix.\n",
    "        cm = confusion_matrix(labels_val, val_pred)\n",
    "        # Log the confusion matrix as an image summary.\n",
    "        figure = plot_confusion_matrix(cm, class_names=[\"Glasses\", \"Sunglassses\"])\n",
    "        cm_image = plot_to_image(figure)\n",
    "\n",
    "        # Log the confusion matrix as an image summary.\n",
    "        with file_writer_cm.as_default():\n",
    "            tf.summary.image(\"Confusion_matrix\", cm_image, step=epoch)\n",
    "\n",
    "    # Define the per-epoch callback.\n",
    "    cm_callback = LambdaCallback(on_epoch_end=log_confusion_matrix)\n",
    "\n",
    "\n",
    "    tensorboard_callback = TensorBoard(log_dir=log_dir, histogram_freq=1)\n",
    "\n",
    "\n",
    "    early_stopping = EarlyStopping(\n",
    "        monitor= 'val_loss',\n",
    "        mode = 'auto',\n",
    "        min_delta = 0,\n",
    "        patience = 2,\n",
    "        verbose = 0,\n",
    "        restore_best_weights = True\n",
    "    )\n",
    "\n",
    "\n",
    "#Train the model\n",
    "    model.fit(\n",
    "        images_train,\n",
    "        labels_train,\n",
    "        epochs = EPOCHS,\n",
    "        batch_size = BATCH_SIZE,\n",
    "        callbacks = [tensorboard_callback, cm_callback, early_stopping],\n",
    "        validation_data = (images_val, labels_val),\n",
    "        verbose =2\n",
    "    )\n",
    "\n",
    "    _,accuracy = model.evaluate(images_val, labels_val)\n",
    "\n",
    "    # Save the model\n",
    "    model.save(f\"saved_model/Model_1/fit/run-{session_num}.h5\")\n",
    "\n",
    "\n",
    "    return accuracy\n",
    "\n"
   ]
  },
  {
   "cell_type": "code",
   "execution_count": 34,
   "id": "4fb505ee",
   "metadata": {
    "scrolled": true
   },
   "outputs": [
    {
     "name": "stdout",
     "output_type": "stream",
     "text": [
      "---Starting trial: run-1\n",
      "{'filter_size': 3, 'filter_num': 32}\n",
      "Epoch 1/15\n",
      "16/16 [==============================] - 1s 49ms/step\n",
      "63/63 - 24s - loss: 0.3126 - accuracy: 0.8818 - val_loss: 0.2050 - val_accuracy: 0.9460 - 24s/epoch - 381ms/step\n",
      "Epoch 2/15\n",
      "16/16 [==============================] - 1s 48ms/step\n",
      "63/63 - 22s - loss: 0.1645 - accuracy: 0.9470 - val_loss: 0.2203 - val_accuracy: 0.9620 - 22s/epoch - 344ms/step\n",
      "Epoch 3/15\n",
      "16/16 [==============================] - 0s 26ms/step\n",
      "63/63 - 18s - loss: 0.1381 - accuracy: 0.9593 - val_loss: 0.2229 - val_accuracy: 0.9580 - 18s/epoch - 284ms/step\n",
      "16/16 [==============================] - 0s 28ms/step - loss: 0.2050 - accuracy: 0.9460\n",
      "---Starting trial: run-2\n",
      "{'filter_size': 3, 'filter_num': 64}\n"
     ]
    },
    {
     "name": "stderr",
     "output_type": "stream",
     "text": [
      "C:\\Users\\chiez\\anaconda3\\envs\\fashion_labeling\\Lib\\site-packages\\keras\\src\\engine\\training.py:3079: UserWarning: You are saving your model as an HDF5 file via `model.save()`. This file format is considered legacy. We recommend using instead the native Keras format, e.g. `model.save('my_model.keras')`.\n",
      "  saving_api.save_model(\n"
     ]
    },
    {
     "name": "stdout",
     "output_type": "stream",
     "text": [
      "Epoch 1/15\n",
      "16/16 [==============================] - 1s 28ms/step\n",
      "63/63 - 13s - loss: 0.3708 - accuracy: 0.8523 - val_loss: 0.2097 - val_accuracy: 0.9500 - 13s/epoch - 206ms/step\n",
      "Epoch 2/15\n",
      "16/16 [==============================] - 0s 29ms/step\n",
      "63/63 - 12s - loss: 0.1572 - accuracy: 0.9490 - val_loss: 0.2125 - val_accuracy: 0.9400 - 12s/epoch - 186ms/step\n",
      "Epoch 3/15\n",
      "16/16 [==============================] - 0s 30ms/step\n",
      "63/63 - 12s - loss: 0.1548 - accuracy: 0.9490 - val_loss: 0.2100 - val_accuracy: 0.9420 - 12s/epoch - 187ms/step\n",
      "16/16 [==============================] - 0s 26ms/step - loss: 0.2097 - accuracy: 0.9500\n",
      "---Starting trial: run-3\n",
      "{'filter_size': 3, 'filter_num': 96}\n"
     ]
    },
    {
     "name": "stderr",
     "output_type": "stream",
     "text": [
      "C:\\Users\\chiez\\anaconda3\\envs\\fashion_labeling\\Lib\\site-packages\\keras\\src\\engine\\training.py:3079: UserWarning: You are saving your model as an HDF5 file via `model.save()`. This file format is considered legacy. We recommend using instead the native Keras format, e.g. `model.save('my_model.keras')`.\n",
      "  saving_api.save_model(\n"
     ]
    },
    {
     "name": "stdout",
     "output_type": "stream",
     "text": [
      "Epoch 1/15\n",
      "16/16 [==============================] - 1s 28ms/step\n",
      "63/63 - 13s - loss: 0.4012 - accuracy: 0.8226 - val_loss: 0.2009 - val_accuracy: 0.9540 - 13s/epoch - 203ms/step\n",
      "Epoch 2/15\n",
      "16/16 [==============================] - 0s 29ms/step\n",
      "63/63 - 12s - loss: 0.1664 - accuracy: 0.9435 - val_loss: 0.2017 - val_accuracy: 0.9580 - 12s/epoch - 194ms/step\n",
      "Epoch 3/15\n",
      "16/16 [==============================] - 1s 30ms/step\n",
      "63/63 - 12s - loss: 0.1414 - accuracy: 0.9543 - val_loss: 0.2092 - val_accuracy: 0.9380 - 12s/epoch - 190ms/step\n",
      "16/16 [==============================] - 1s 28ms/step - loss: 0.2009 - accuracy: 0.9540\n",
      "---Starting trial: run-4\n",
      "{'filter_size': 3, 'filter_num': 128}\n"
     ]
    },
    {
     "name": "stderr",
     "output_type": "stream",
     "text": [
      "C:\\Users\\chiez\\anaconda3\\envs\\fashion_labeling\\Lib\\site-packages\\keras\\src\\engine\\training.py:3079: UserWarning: You are saving your model as an HDF5 file via `model.save()`. This file format is considered legacy. We recommend using instead the native Keras format, e.g. `model.save('my_model.keras')`.\n",
      "  saving_api.save_model(\n"
     ]
    },
    {
     "name": "stdout",
     "output_type": "stream",
     "text": [
      "Epoch 1/15\n",
      "16/16 [==============================] - 1s 28ms/step\n",
      "63/63 - 13s - loss: 0.3263 - accuracy: 0.8606 - val_loss: 0.1987 - val_accuracy: 0.9500 - 13s/epoch - 211ms/step\n",
      "Epoch 2/15\n",
      "16/16 [==============================] - 0s 28ms/step\n",
      "63/63 - 12s - loss: 0.1849 - accuracy: 0.9353 - val_loss: 0.1913 - val_accuracy: 0.9500 - 12s/epoch - 193ms/step\n",
      "Epoch 3/15\n",
      "16/16 [==============================] - 1s 30ms/step\n",
      "63/63 - 12s - loss: 0.1389 - accuracy: 0.9588 - val_loss: 0.2042 - val_accuracy: 0.9520 - 12s/epoch - 191ms/step\n",
      "Epoch 4/15\n",
      "16/16 [==============================] - 1s 32ms/step\n",
      "63/63 - 12s - loss: 0.1374 - accuracy: 0.9608 - val_loss: 0.2117 - val_accuracy: 0.9420 - 12s/epoch - 196ms/step\n",
      "16/16 [==============================] - 0s 27ms/step - loss: 0.1913 - accuracy: 0.9500\n",
      "---Starting trial: run-5\n",
      "{'filter_size': 5, 'filter_num': 32}\n"
     ]
    },
    {
     "name": "stderr",
     "output_type": "stream",
     "text": [
      "C:\\Users\\chiez\\anaconda3\\envs\\fashion_labeling\\Lib\\site-packages\\keras\\src\\engine\\training.py:3079: UserWarning: You are saving your model as an HDF5 file via `model.save()`. This file format is considered legacy. We recommend using instead the native Keras format, e.g. `model.save('my_model.keras')`.\n",
      "  saving_api.save_model(\n"
     ]
    },
    {
     "name": "stdout",
     "output_type": "stream",
     "text": [
      "Epoch 1/15\n",
      "16/16 [==============================] - 1s 28ms/step\n",
      "63/63 - 14s - loss: 0.4780 - accuracy: 0.8073 - val_loss: 0.2245 - val_accuracy: 0.9220 - 14s/epoch - 215ms/step\n",
      "Epoch 2/15\n",
      "16/16 [==============================] - 0s 28ms/step\n",
      "63/63 - 12s - loss: 0.1577 - accuracy: 0.9483 - val_loss: 0.2194 - val_accuracy: 0.9560 - 12s/epoch - 197ms/step\n",
      "Epoch 3/15\n",
      "16/16 [==============================] - 1s 31ms/step\n",
      "63/63 - 12s - loss: 0.1438 - accuracy: 0.9538 - val_loss: 0.2201 - val_accuracy: 0.9340 - 12s/epoch - 192ms/step\n",
      "Epoch 4/15\n",
      "16/16 [==============================] - 1s 31ms/step\n",
      "63/63 - 12s - loss: 0.1421 - accuracy: 0.9550 - val_loss: 0.2013 - val_accuracy: 0.9500 - 12s/epoch - 198ms/step\n",
      "Epoch 5/15\n",
      "16/16 [==============================] - 0s 28ms/step\n",
      "63/63 - 13s - loss: 0.1328 - accuracy: 0.9620 - val_loss: 0.2054 - val_accuracy: 0.9420 - 13s/epoch - 199ms/step\n",
      "Epoch 6/15\n",
      "16/16 [==============================] - 1s 31ms/step\n",
      "63/63 - 12s - loss: 0.1187 - accuracy: 0.9638 - val_loss: 0.2027 - val_accuracy: 0.9520 - 12s/epoch - 194ms/step\n",
      "16/16 [==============================] - 0s 27ms/step - loss: 0.2013 - accuracy: 0.9500\n",
      "---Starting trial: run-6\n",
      "{'filter_size': 5, 'filter_num': 64}\n"
     ]
    },
    {
     "name": "stderr",
     "output_type": "stream",
     "text": [
      "C:\\Users\\chiez\\anaconda3\\envs\\fashion_labeling\\Lib\\site-packages\\keras\\src\\engine\\training.py:3079: UserWarning: You are saving your model as an HDF5 file via `model.save()`. This file format is considered legacy. We recommend using instead the native Keras format, e.g. `model.save('my_model.keras')`.\n",
      "  saving_api.save_model(\n"
     ]
    },
    {
     "name": "stdout",
     "output_type": "stream",
     "text": [
      "Epoch 1/15\n",
      "16/16 [==============================] - 1s 28ms/step\n",
      "63/63 - 14s - loss: 0.4326 - accuracy: 0.8241 - val_loss: 0.1986 - val_accuracy: 0.9460 - 14s/epoch - 229ms/step\n",
      "Epoch 2/15\n",
      "16/16 [==============================] - 1s 33ms/step\n",
      "63/63 - 12s - loss: 0.1720 - accuracy: 0.9423 - val_loss: 0.2239 - val_accuracy: 0.9280 - 12s/epoch - 197ms/step\n",
      "Epoch 3/15\n",
      "16/16 [==============================] - 0s 28ms/step\n",
      "63/63 - 12s - loss: 0.1350 - accuracy: 0.9563 - val_loss: 0.2391 - val_accuracy: 0.9540 - 12s/epoch - 195ms/step\n",
      "16/16 [==============================] - 1s 31ms/step - loss: 0.1986 - accuracy: 0.9460\n",
      "---Starting trial: run-7\n",
      "{'filter_size': 5, 'filter_num': 96}\n"
     ]
    },
    {
     "name": "stderr",
     "output_type": "stream",
     "text": [
      "C:\\Users\\chiez\\anaconda3\\envs\\fashion_labeling\\Lib\\site-packages\\keras\\src\\engine\\training.py:3079: UserWarning: You are saving your model as an HDF5 file via `model.save()`. This file format is considered legacy. We recommend using instead the native Keras format, e.g. `model.save('my_model.keras')`.\n",
      "  saving_api.save_model(\n"
     ]
    },
    {
     "name": "stdout",
     "output_type": "stream",
     "text": [
      "Epoch 1/15\n",
      "16/16 [==============================] - 1s 28ms/step\n",
      "63/63 - 14s - loss: 0.4342 - accuracy: 0.8193 - val_loss: 0.2010 - val_accuracy: 0.9500 - 14s/epoch - 220ms/step\n",
      "Epoch 2/15\n",
      "16/16 [==============================] - 0s 28ms/step\n",
      "63/63 - 12s - loss: 0.1793 - accuracy: 0.9353 - val_loss: 0.2048 - val_accuracy: 0.9400 - 12s/epoch - 198ms/step\n",
      "Epoch 3/15\n",
      "16/16 [==============================] - 0s 29ms/step\n",
      "63/63 - 12s - loss: 0.1587 - accuracy: 0.9498 - val_loss: 0.2059 - val_accuracy: 0.9540 - 12s/epoch - 193ms/step\n",
      "16/16 [==============================] - 0s 29ms/step - loss: 0.2010 - accuracy: 0.9500\n",
      "---Starting trial: run-8\n",
      "{'filter_size': 5, 'filter_num': 128}\n"
     ]
    },
    {
     "name": "stderr",
     "output_type": "stream",
     "text": [
      "C:\\Users\\chiez\\anaconda3\\envs\\fashion_labeling\\Lib\\site-packages\\keras\\src\\engine\\training.py:3079: UserWarning: You are saving your model as an HDF5 file via `model.save()`. This file format is considered legacy. We recommend using instead the native Keras format, e.g. `model.save('my_model.keras')`.\n",
      "  saving_api.save_model(\n"
     ]
    },
    {
     "name": "stdout",
     "output_type": "stream",
     "text": [
      "Epoch 1/15\n",
      "16/16 [==============================] - 1s 29ms/step\n",
      "63/63 - 14s - loss: 0.5971 - accuracy: 0.7584 - val_loss: 0.2401 - val_accuracy: 0.9400 - 14s/epoch - 219ms/step\n",
      "Epoch 2/15\n",
      "16/16 [==============================] - 1s 30ms/step\n",
      "63/63 - 12s - loss: 0.1852 - accuracy: 0.9375 - val_loss: 0.2071 - val_accuracy: 0.9480 - 12s/epoch - 193ms/step\n",
      "Epoch 3/15\n",
      "16/16 [==============================] - 0s 28ms/step\n",
      "63/63 - 12s - loss: 0.1582 - accuracy: 0.9488 - val_loss: 0.2033 - val_accuracy: 0.9480 - 12s/epoch - 196ms/step\n",
      "Epoch 4/15\n",
      "16/16 [==============================] - 1s 32ms/step\n",
      "63/63 - 12s - loss: 0.1476 - accuracy: 0.9580 - val_loss: 0.2049 - val_accuracy: 0.9580 - 12s/epoch - 194ms/step\n",
      "Epoch 5/15\n",
      "16/16 [==============================] - 0s 28ms/step\n",
      "63/63 - 12s - loss: 0.1410 - accuracy: 0.9588 - val_loss: 0.2093 - val_accuracy: 0.9600 - 12s/epoch - 194ms/step\n",
      "16/16 [==============================] - 0s 28ms/step - loss: 0.2033 - accuracy: 0.9480\n",
      "---Starting trial: run-9\n",
      "{'filter_size': 7, 'filter_num': 32}\n"
     ]
    },
    {
     "name": "stderr",
     "output_type": "stream",
     "text": [
      "C:\\Users\\chiez\\anaconda3\\envs\\fashion_labeling\\Lib\\site-packages\\keras\\src\\engine\\training.py:3079: UserWarning: You are saving your model as an HDF5 file via `model.save()`. This file format is considered legacy. We recommend using instead the native Keras format, e.g. `model.save('my_model.keras')`.\n",
      "  saving_api.save_model(\n"
     ]
    },
    {
     "name": "stdout",
     "output_type": "stream",
     "text": [
      "Epoch 1/15\n",
      "16/16 [==============================] - 1s 29ms/step\n",
      "63/63 - 14s - loss: 0.4565 - accuracy: 0.8186 - val_loss: 0.2228 - val_accuracy: 0.9460 - 14s/epoch - 215ms/step\n",
      "Epoch 2/15\n",
      "16/16 [==============================] - 1s 30ms/step\n",
      "63/63 - 13s - loss: 0.1508 - accuracy: 0.9528 - val_loss: 0.3036 - val_accuracy: 0.8880 - 13s/epoch - 202ms/step\n",
      "Epoch 3/15\n",
      "16/16 [==============================] - 1s 41ms/step\n",
      "63/63 - 15s - loss: 0.1679 - accuracy: 0.9430 - val_loss: 0.1987 - val_accuracy: 0.9460 - 15s/epoch - 233ms/step\n",
      "Epoch 4/15\n",
      "16/16 [==============================] - 1s 36ms/step\n",
      "63/63 - 16s - loss: 0.1318 - accuracy: 0.9623 - val_loss: 0.2060 - val_accuracy: 0.9540 - 16s/epoch - 257ms/step\n",
      "Epoch 5/15\n",
      "16/16 [==============================] - 1s 34ms/step\n",
      "63/63 - 16s - loss: 0.1263 - accuracy: 0.9628 - val_loss: 0.2238 - val_accuracy: 0.9360 - 16s/epoch - 251ms/step\n",
      "16/16 [==============================] - 1s 31ms/step - loss: 0.1987 - accuracy: 0.9460\n",
      "---Starting trial: run-10\n",
      "{'filter_size': 7, 'filter_num': 64}\n"
     ]
    },
    {
     "name": "stderr",
     "output_type": "stream",
     "text": [
      "C:\\Users\\chiez\\anaconda3\\envs\\fashion_labeling\\Lib\\site-packages\\keras\\src\\engine\\training.py:3079: UserWarning: You are saving your model as an HDF5 file via `model.save()`. This file format is considered legacy. We recommend using instead the native Keras format, e.g. `model.save('my_model.keras')`.\n",
      "  saving_api.save_model(\n"
     ]
    },
    {
     "name": "stdout",
     "output_type": "stream",
     "text": [
      "Epoch 1/15\n",
      "16/16 [==============================] - 1s 33ms/step\n",
      "63/63 - 18s - loss: 0.3802 - accuracy: 0.8218 - val_loss: 0.2054 - val_accuracy: 0.9440 - 18s/epoch - 284ms/step\n",
      "Epoch 2/15\n",
      "16/16 [==============================] - 1s 35ms/step\n",
      "63/63 - 16s - loss: 0.1565 - accuracy: 0.9493 - val_loss: 0.2200 - val_accuracy: 0.9340 - 16s/epoch - 247ms/step\n",
      "Epoch 3/15\n",
      "16/16 [==============================] - 1s 30ms/step\n",
      "63/63 - 15s - loss: 0.1387 - accuracy: 0.9560 - val_loss: 0.2077 - val_accuracy: 0.9600 - 15s/epoch - 240ms/step\n",
      "16/16 [==============================] - 1s 30ms/step - loss: 0.2054 - accuracy: 0.9440\n",
      "---Starting trial: run-11\n",
      "{'filter_size': 7, 'filter_num': 96}\n"
     ]
    },
    {
     "name": "stderr",
     "output_type": "stream",
     "text": [
      "C:\\Users\\chiez\\anaconda3\\envs\\fashion_labeling\\Lib\\site-packages\\keras\\src\\engine\\training.py:3079: UserWarning: You are saving your model as an HDF5 file via `model.save()`. This file format is considered legacy. We recommend using instead the native Keras format, e.g. `model.save('my_model.keras')`.\n",
      "  saving_api.save_model(\n"
     ]
    },
    {
     "name": "stdout",
     "output_type": "stream",
     "text": [
      "Epoch 1/15\n",
      "16/16 [==============================] - 1s 31ms/step\n",
      "63/63 - 17s - loss: 0.3437 - accuracy: 0.8621 - val_loss: 0.4847 - val_accuracy: 0.8560 - 17s/epoch - 270ms/step\n",
      "Epoch 2/15\n",
      "16/16 [==============================] - 1s 32ms/step\n",
      "63/63 - 15s - loss: 0.1811 - accuracy: 0.9373 - val_loss: 0.2149 - val_accuracy: 0.9380 - 15s/epoch - 232ms/step\n",
      "Epoch 3/15\n",
      "16/16 [==============================] - 1s 34ms/step\n",
      "63/63 - 15s - loss: 0.1484 - accuracy: 0.9535 - val_loss: 0.2019 - val_accuracy: 0.9560 - 15s/epoch - 232ms/step\n",
      "Epoch 4/15\n",
      "16/16 [==============================] - 1s 33ms/step\n",
      "63/63 - 14s - loss: 0.1341 - accuracy: 0.9605 - val_loss: 0.2086 - val_accuracy: 0.9480 - 14s/epoch - 225ms/step\n",
      "Epoch 5/15\n",
      "16/16 [==============================] - 1s 32ms/step\n",
      "63/63 - 14s - loss: 0.1291 - accuracy: 0.9598 - val_loss: 0.2122 - val_accuracy: 0.9540 - 14s/epoch - 222ms/step\n",
      "16/16 [==============================] - 1s 31ms/step - loss: 0.2019 - accuracy: 0.9560\n",
      "---Starting trial: run-12\n",
      "{'filter_size': 7, 'filter_num': 128}\n"
     ]
    },
    {
     "name": "stderr",
     "output_type": "stream",
     "text": [
      "C:\\Users\\chiez\\anaconda3\\envs\\fashion_labeling\\Lib\\site-packages\\keras\\src\\engine\\training.py:3079: UserWarning: You are saving your model as an HDF5 file via `model.save()`. This file format is considered legacy. We recommend using instead the native Keras format, e.g. `model.save('my_model.keras')`.\n",
      "  saving_api.save_model(\n"
     ]
    },
    {
     "name": "stdout",
     "output_type": "stream",
     "text": [
      "Epoch 1/15\n",
      "16/16 [==============================] - 1s 30ms/step\n",
      "63/63 - 15s - loss: 0.4422 - accuracy: 0.8186 - val_loss: 0.2233 - val_accuracy: 0.9240 - 15s/epoch - 245ms/step\n",
      "Epoch 2/15\n",
      "16/16 [==============================] - 1s 36ms/step\n",
      "63/63 - 16s - loss: 0.1716 - accuracy: 0.9443 - val_loss: 0.2269 - val_accuracy: 0.9560 - 16s/epoch - 250ms/step\n",
      "Epoch 3/15\n",
      "16/16 [==============================] - 1s 34ms/step\n",
      "63/63 - 16s - loss: 0.1514 - accuracy: 0.9513 - val_loss: 0.2155 - val_accuracy: 0.9600 - 16s/epoch - 248ms/step\n",
      "Epoch 4/15\n",
      "16/16 [==============================] - 1s 33ms/step\n",
      "63/63 - 15s - loss: 0.1455 - accuracy: 0.9573 - val_loss: 0.2110 - val_accuracy: 0.9580 - 15s/epoch - 233ms/step\n",
      "Epoch 5/15\n",
      "16/16 [==============================] - 1s 30ms/step\n",
      "63/63 - 13s - loss: 0.1449 - accuracy: 0.9548 - val_loss: 0.2021 - val_accuracy: 0.9520 - 13s/epoch - 214ms/step\n",
      "Epoch 6/15\n",
      "16/16 [==============================] - 1s 31ms/step\n",
      "63/63 - 14s - loss: 0.1386 - accuracy: 0.9585 - val_loss: 0.2069 - val_accuracy: 0.9600 - 14s/epoch - 218ms/step\n",
      "Epoch 7/15\n",
      "16/16 [==============================] - 1s 32ms/step\n",
      "63/63 - 14s - loss: 0.1234 - accuracy: 0.9638 - val_loss: 0.2127 - val_accuracy: 0.9540 - 14s/epoch - 218ms/step\n",
      "16/16 [==============================] - 1s 30ms/step - loss: 0.2021 - accuracy: 0.9520\n"
     ]
    },
    {
     "name": "stderr",
     "output_type": "stream",
     "text": [
      "C:\\Users\\chiez\\anaconda3\\envs\\fashion_labeling\\Lib\\site-packages\\keras\\src\\engine\\training.py:3079: UserWarning: You are saving your model as an HDF5 file via `model.save()`. This file format is considered legacy. We recommend using instead the native Keras format, e.g. `model.save('my_model.keras')`.\n",
      "  saving_api.save_model(\n"
     ]
    }
   ],
   "source": [
    "#Log the hyperparameter to the TensorBoard\n",
    "\n",
    "\n",
    "\n",
    "def run(log_dir, hparams,session_num):\n",
    "    hyperparameter_writer = tf.summary.create_file_writer(log_dir)\n",
    "    \n",
    "    \n",
    "    with hyperparameter_writer.as_default():\n",
    "        hp.hparams(hparams) #record the values used in this trial\n",
    "        accuracy = train_model(hparams, session_num)\n",
    "        tf.summary.scalar(METRIC_ACCURACY, accuracy, step=1)\n",
    "        \n",
    "        \n",
    "        \n",
    "        \n",
    "        \n",
    "#Train the model with the different hyperparameters\n",
    "session_num = 1\n",
    "for filter_size in HP_FILTER_SIZE.domain.values:\n",
    "    for filter_num in HP_FILTER_NUM.domain.values:\n",
    "        hparams ={\n",
    "        HP_FILTER_SIZE: filter_size,\n",
    "        HP_FILTER_NUM : filter_num\n",
    "        }\n",
    "        \n",
    "        run_name = \"run-%d\" % session_num\n",
    "        print('---Starting trial: %s' % run_name)\n",
    "        print({h.name: hparams[h] for h in hparams})\n",
    "        run('Logs/Model 1/hparam_tuning/' + run_name, hparams, session_num)\n",
    "        \n",
    "        session_num += 1\n",
    "       \n",
    "        \n",
    "\n",
    "       \n",
    "        \n",
    "        \n",
    "        \n",
    "\n",
    "\n",
    "\n",
    "\n",
    "\n",
    "\n"
   ]
  },
  {
   "cell_type": "code",
   "execution_count": null,
   "id": "c60a19ba",
   "metadata": {
    "scrolled": true
   },
   "outputs": [],
   "source": []
  },
  {
   "cell_type": "code",
   "execution_count": 35,
   "id": "a38f19ed",
   "metadata": {
    "scrolled": true
   },
   "outputs": [
    {
     "name": "stdout",
     "output_type": "stream",
     "text": [
      "The tensorboard extension is already loaded. To reload it, use:\n",
      "  %reload_ext tensorboard\n"
     ]
    },
    {
     "data": {
      "text/html": [
       "\n",
       "      <iframe id=\"tensorboard-frame-c1175b6ac7a7e56e\" width=\"100%\" height=\"800\" frameborder=\"0\">\n",
       "      </iframe>\n",
       "      <script>\n",
       "        (function() {\n",
       "          const frame = document.getElementById(\"tensorboard-frame-c1175b6ac7a7e56e\");\n",
       "          const url = new URL(\"/\", window.location);\n",
       "          const port = 6006;\n",
       "          if (port) {\n",
       "            url.port = port;\n",
       "          }\n",
       "          frame.src = url;\n",
       "        })();\n",
       "      </script>\n",
       "    "
      ],
      "text/plain": [
       "<IPython.core.display.HTML object>"
      ]
     },
     "metadata": {},
     "output_type": "display_data"
    }
   ],
   "source": [
    "%load_ext tensorboard\n",
    "%tensorboard --logdir 'Logs/Model_1/hparam_tuning'\n"
   ]
  },
  {
   "cell_type": "code",
   "execution_count": 37,
   "id": "6e1505de",
   "metadata": {},
   "outputs": [
    {
     "name": "stdout",
     "output_type": "stream",
     "text": [
      "The tensorboard extension is already loaded. To reload it, use:\n",
      "  %reload_ext tensorboard\n"
     ]
    },
    {
     "data": {
      "text/html": [
       "\n",
       "      <iframe id=\"tensorboard-frame-162bfd912cd10a9\" width=\"100%\" height=\"800\" frameborder=\"0\">\n",
       "      </iframe>\n",
       "      <script>\n",
       "        (function() {\n",
       "          const frame = document.getElementById(\"tensorboard-frame-162bfd912cd10a9\");\n",
       "          const url = new URL(\"/\", window.location);\n",
       "          const port = 6006;\n",
       "          if (port) {\n",
       "            url.port = port;\n",
       "          }\n",
       "          frame.src = url;\n",
       "        })();\n",
       "      </script>\n",
       "    "
      ],
      "text/plain": [
       "<IPython.core.display.HTML object>"
      ]
     },
     "metadata": {},
     "output_type": "display_data"
    }
   ],
   "source": [
    "%load_ext tensorboard\n",
    "%tensorboard --logdir 'Logs/Model_1/fit'"
   ]
  },
  {
   "cell_type": "code",
   "execution_count": null,
   "id": "8b29b717",
   "metadata": {},
   "outputs": [],
   "source": []
  },
  {
   "cell_type": "code",
   "execution_count": null,
   "id": "09562aa7",
   "metadata": {},
   "outputs": [],
   "source": []
  }
 ],
 "metadata": {
  "kernelspec": {
   "display_name": "Python 3 (ipykernel)",
   "language": "python",
   "name": "python3"
  },
  "language_info": {
   "codemirror_mode": {
    "name": "ipython",
    "version": 3
   },
   "file_extension": ".py",
   "mimetype": "text/x-python",
   "name": "python",
   "nbconvert_exporter": "python",
   "pygments_lexer": "ipython3",
   "version": "3.11.5"
  }
 },
 "nbformat": 4,
 "nbformat_minor": 5
}
